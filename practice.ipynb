{
  "nbformat": 4,
  "nbformat_minor": 0,
  "metadata": {
    "colab": {
      "name": "Untitled0.ipynb",
      "provenance": [],
      "authorship_tag": "ABX9TyN2pB+lhx8FxEcUyq9oiwXK",
      "include_colab_link": true
    },
    "kernelspec": {
      "name": "python3",
      "display_name": "Python 3"
    },
    "language_info": {
      "name": "python"
    }
  },
  "cells": [
    {
      "cell_type": "markdown",
      "metadata": {
        "id": "view-in-github",
        "colab_type": "text"
      },
      "source": [
        "<a href=\"https://colab.research.google.com/github/Amruth56/oop/blob/main/practice.ipynb\" target=\"_parent\"><img src=\"https://colab.research.google.com/assets/colab-badge.svg\" alt=\"Open In Colab\"/></a>"
      ]
    },
    {
      "cell_type": "code",
      "metadata": {
        "id": "1ju4Gf6xr-8d",
        "colab": {
          "base_uri": "https://localhost:8080/"
        },
        "outputId": "cfef5cf6-7c07-4df7-e7b2-72d92390546b"
      },
      "source": [
        "def fact(n):\n",
        "  num=1\n",
        "  for i in range (n):\n",
        "    num=num*(i+1)\n",
        "  return num\n",
        "a=int(input(\"enter a number of which you wanna fing the factorial :\"))\n",
        "print(fact(a))"
      ],
      "execution_count": null,
      "outputs": [
        {
          "output_type": "stream",
          "text": [
            "enter a number of which you wanna fing the factorial :5\n",
            "120\n"
          ],
          "name": "stdout"
        }
      ]
    },
    {
      "cell_type": "code",
      "metadata": {
        "colab": {
          "base_uri": "https://localhost:8080/"
        },
        "id": "0G_wHw9rSAfU",
        "outputId": "f0acf8c0-8a93-482d-e7e3-84110ac92a73"
      },
      "source": [
        "a=int(input(\"enter the number :\"))\n",
        "i=10\n",
        "while i>=1:\n",
        "  print(a,\"x\",i,\"=\",a*i)\n",
        "  i=i-1"
      ],
      "execution_count": null,
      "outputs": [
        {
          "output_type": "stream",
          "text": [
            "enter the number :4\n",
            "4 x 10 = 40\n",
            "4 x 9 = 36\n",
            "4 x 8 = 32\n",
            "4 x 7 = 28\n",
            "4 x 6 = 24\n",
            "4 x 5 = 20\n",
            "4 x 4 = 16\n",
            "4 x 3 = 12\n",
            "4 x 2 = 8\n",
            "4 x 1 = 4\n"
          ],
          "name": "stdout"
        }
      ]
    },
    {
      "cell_type": "code",
      "metadata": {
        "colab": {
          "base_uri": "https://localhost:8080/"
        },
        "id": "CzzT2WZwSG6L",
        "outputId": "4fbb34e1-83ee-49db-b3e8-605ca62ded34"
      },
      "source": [
        "a=int(input(\"enter the number \"))\n",
        "for i in range (1,11):\n",
        "  print(a,\"x\",i,\"=\",a*i)"
      ],
      "execution_count": null,
      "outputs": [
        {
          "output_type": "stream",
          "text": [
            "enter the number 4\n",
            "4 x 1 = 4\n",
            "4 x 2 = 8\n",
            "4 x 3 = 12\n",
            "4 x 4 = 16\n",
            "4 x 5 = 20\n",
            "4 x 6 = 24\n",
            "4 x 7 = 28\n",
            "4 x 8 = 32\n",
            "4 x 9 = 36\n",
            "4 x 10 = 40\n"
          ],
          "name": "stdout"
        }
      ]
    },
    {
      "cell_type": "code",
      "metadata": {
        "colab": {
          "base_uri": "https://localhost:8080/"
        },
        "id": "vGOa_Q6pSchS",
        "outputId": "8d4476c4-796d-48aa-d632-deb0d37c62fe"
      },
      "source": [
        "a=int(input(\"enter the first number \"))\n",
        "b=int(input(\"enter the second number \"))\n",
        "c=int(input(\"enter the third number \"))\n",
        "if (a>b and a>c):\n",
        "  print(a,\"is the greatest number\")\n",
        "if(b>a and b>c):\n",
        "  print(b,\"is the greatest number\")\n",
        "else:\n",
        "  print(c,\"is the greatest number\")"
      ],
      "execution_count": null,
      "outputs": [
        {
          "output_type": "stream",
          "text": [
            "enter the first number 9\n",
            "enter the second number 11\n",
            "enter the third number 3\n",
            "11 is the greatest number\n"
          ],
          "name": "stdout"
        }
      ]
    },
    {
      "cell_type": "code",
      "metadata": {
        "id": "Nt19ssl2SGQF",
        "colab": {
          "base_uri": "https://localhost:8080/"
        },
        "outputId": "84d5c164-aab4-4b2f-baa3-7c858619bafd"
      },
      "source": [
        "#to convert temperature from celcius to fahrenheit\n",
        "def temp(c):\n",
        "  f=(c*(9/5))+32\n",
        "  return f\n",
        "\n",
        "a=int(input(\"enter the temperature in celcius :\"))\n",
        "print(temp(a))\n"
      ],
      "execution_count": 3,
      "outputs": [
        {
          "output_type": "stream",
          "text": [
            "enter the temperature in celcius :27\n",
            "80.6\n"
          ],
          "name": "stdout"
        }
      ]
    },
    {
      "cell_type": "code",
      "metadata": {
        "colab": {
          "base_uri": "https://localhost:8080/"
        },
        "id": "WqAVBb2vnWv4",
        "outputId": "5543469c-1384-4839-8d2f-5690bc357a11"
      },
      "source": [
        "#to print the sum of first n natural number\n",
        "n=int(input(\"enter the number\"))\n",
        "sum=n*(n+1)/2\n",
        "print(sum)"
      ],
      "execution_count": 5,
      "outputs": [
        {
          "output_type": "stream",
          "text": [
            "enter the number10\n",
            "55.0\n"
          ],
          "name": "stdout"
        }
      ]
    },
    {
      "cell_type": "code",
      "metadata": {
        "colab": {
          "base_uri": "https://localhost:8080/"
        },
        "id": "c33yRAOMpyQZ",
        "outputId": "20247607-7742-43e4-fcdf-f7432cbd6ab6"
      },
      "source": [
        "# to print the sum of n natural number\n",
        "num=int(input(\"enter the number :\"))\n",
        "# num=10\n",
        "if num<0:\n",
        "  print(\"enter a positive number\")\n",
        "else:\n",
        "  sum=0\n",
        "\n",
        "  while(num>0):\n",
        "    sum += num\n",
        "    num -= 1\n",
        "    print(sum)"
      ],
      "execution_count": 14,
      "outputs": [
        {
          "output_type": "stream",
          "text": [
            "10\n",
            "19\n",
            "27\n",
            "34\n",
            "40\n",
            "45\n",
            "49\n",
            "52\n",
            "54\n",
            "55\n"
          ],
          "name": "stdout"
        }
      ]
    },
    {
      "cell_type": "code",
      "metadata": {
        "colab": {
          "base_uri": "https://localhost:8080/"
        },
        "id": "d63pJnevqJV-",
        "outputId": "590582ed-3366-434f-88bd-240cb335ded0"
      },
      "source": [
        "# Sum of natural numbers up to num\n",
        "\n",
        "num = 16\n",
        "\n",
        "if num < 0:\n",
        "   print(\"Enter a positive number\")\n",
        "else:\n",
        "   sum = 0\n",
        "   # use while loop to iterate until zero\n",
        "   while(num > 0):\n",
        "       sum += num\n",
        "       num -= 1\n",
        "   print(\"The sum is\", sum)\n"
      ],
      "execution_count": 11,
      "outputs": [
        {
          "output_type": "stream",
          "text": [
            "The sum is 136\n"
          ],
          "name": "stdout"
        }
      ]
    }
  ]
}