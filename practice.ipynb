{
  "nbformat": 4,
  "nbformat_minor": 0,
  "metadata": {
    "colab": {
      "name": "practice.ipynb",
      "provenance": [],
      "authorship_tag": "ABX9TyMc5h1UirACscHkEFb1N1F7",
      "include_colab_link": true
    },
    "kernelspec": {
      "name": "python3",
      "display_name": "Python 3"
    },
    "language_info": {
      "name": "python"
    }
  },
  "cells": [
    {
      "cell_type": "markdown",
      "metadata": {
        "id": "view-in-github",
        "colab_type": "text"
      },
      "source": [
        "<a href=\"https://colab.research.google.com/github/Amruth56/oop/blob/main/practice.ipynb\" target=\"_parent\"><img src=\"https://colab.research.google.com/assets/colab-badge.svg\" alt=\"Open In Colab\"/></a>"
      ]
    },
    {
      "cell_type": "code",
      "metadata": {
        "id": "1ju4Gf6xr-8d",
        "colab": {
          "base_uri": "https://localhost:8080/"
        },
        "outputId": "cfef5cf6-7c07-4df7-e7b2-72d92390546b"
      },
      "source": [
        "def fact(n):\n",
        "  num=1\n",
        "  for i in range (n):\n",
        "    num=num*(i+1)\n",
        "  return num\n",
        "a=int(input(\"enter a number of which you wanna fing the factorial :\"))\n",
        "print(fact(a))"
      ],
      "execution_count": null,
      "outputs": [
        {
          "output_type": "stream",
          "text": [
            "enter a number of which you wanna fing the factorial :5\n",
            "120\n"
          ],
          "name": "stdout"
        }
      ]
    },
    {
      "cell_type": "code",
      "metadata": {
        "colab": {
          "base_uri": "https://localhost:8080/"
        },
        "id": "0G_wHw9rSAfU",
        "outputId": "f0acf8c0-8a93-482d-e7e3-84110ac92a73"
      },
      "source": [
        "a=int(input(\"enter the number :\"))\n",
        "i=10\n",
        "while i>=1:\n",
        "  print(a,\"x\",i,\"=\",a*i)\n",
        "  i=i-1"
      ],
      "execution_count": null,
      "outputs": [
        {
          "output_type": "stream",
          "text": [
            "enter the number :4\n",
            "4 x 10 = 40\n",
            "4 x 9 = 36\n",
            "4 x 8 = 32\n",
            "4 x 7 = 28\n",
            "4 x 6 = 24\n",
            "4 x 5 = 20\n",
            "4 x 4 = 16\n",
            "4 x 3 = 12\n",
            "4 x 2 = 8\n",
            "4 x 1 = 4\n"
          ],
          "name": "stdout"
        }
      ]
    },
    {
      "cell_type": "code",
      "metadata": {
        "colab": {
          "base_uri": "https://localhost:8080/"
        },
        "id": "CzzT2WZwSG6L",
        "outputId": "4fbb34e1-83ee-49db-b3e8-605ca62ded34"
      },
      "source": [
        "a=int(input(\"enter the number \"))\n",
        "for i in range (1,11):\n",
        "  print(a,\"x\",i,\"=\",a*i)"
      ],
      "execution_count": null,
      "outputs": [
        {
          "output_type": "stream",
          "text": [
            "enter the number 4\n",
            "4 x 1 = 4\n",
            "4 x 2 = 8\n",
            "4 x 3 = 12\n",
            "4 x 4 = 16\n",
            "4 x 5 = 20\n",
            "4 x 6 = 24\n",
            "4 x 7 = 28\n",
            "4 x 8 = 32\n",
            "4 x 9 = 36\n",
            "4 x 10 = 40\n"
          ],
          "name": "stdout"
        }
      ]
    },
    {
      "cell_type": "code",
      "metadata": {
        "colab": {
          "base_uri": "https://localhost:8080/"
        },
        "id": "vGOa_Q6pSchS",
        "outputId": "8d4476c4-796d-48aa-d632-deb0d37c62fe"
      },
      "source": [
        "a=int(input(\"enter the first number \"))\n",
        "b=int(input(\"enter the second number \"))\n",
        "c=int(input(\"enter the third number \"))\n",
        "if (a>b and a>c):\n",
        "  print(a,\"is the greatest number\")\n",
        "if(b>a and b>c):\n",
        "  print(b,\"is the greatest number\")\n",
        "else:\n",
        "  print(c,\"is the greatest number\")"
      ],
      "execution_count": null,
      "outputs": [
        {
          "output_type": "stream",
          "text": [
            "enter the first number 9\n",
            "enter the second number 11\n",
            "enter the third number 3\n",
            "11 is the greatest number\n"
          ],
          "name": "stdout"
        }
      ]
    },
    {
      "cell_type": "code",
      "metadata": {
        "id": "Nt19ssl2SGQF",
        "colab": {
          "base_uri": "https://localhost:8080/"
        },
        "outputId": "84d5c164-aab4-4b2f-baa3-7c858619bafd"
      },
      "source": [
        "#to convert temperature from celcius to fahrenheit\n",
        "def temp(c):\n",
        "  f=(c*(9/5))+32\n",
        "  return f\n",
        "\n",
        "a=int(input(\"enter the temperature in celcius :\"))\n",
        "print(temp(a))\n"
      ],
      "execution_count": null,
      "outputs": [
        {
          "output_type": "stream",
          "text": [
            "enter the temperature in celcius :27\n",
            "80.6\n"
          ],
          "name": "stdout"
        }
      ]
    },
    {
      "cell_type": "code",
      "metadata": {
        "colab": {
          "base_uri": "https://localhost:8080/"
        },
        "id": "WqAVBb2vnWv4",
        "outputId": "5543469c-1384-4839-8d2f-5690bc357a11"
      },
      "source": [
        "#to print the sum of first n natural number\n",
        "n=int(input(\"enter the number\"))\n",
        "sum=n*(n+1)/2\n",
        "print(sum)"
      ],
      "execution_count": null,
      "outputs": [
        {
          "output_type": "stream",
          "text": [
            "enter the number10\n",
            "55.0\n"
          ],
          "name": "stdout"
        }
      ]
    },
    {
      "cell_type": "code",
      "metadata": {
        "colab": {
          "base_uri": "https://localhost:8080/"
        },
        "id": "c33yRAOMpyQZ",
        "outputId": "20247607-7742-43e4-fcdf-f7432cbd6ab6"
      },
      "source": [
        "# to print the sum of n natural number\n",
        "num=int(input(\"enter the number :\"))\n",
        "# num=10\n",
        "if num<0:\n",
        "  print(\"enter a positive number\")\n",
        "else:\n",
        "  sum=0\n",
        "\n",
        "  while(num>0):\n",
        "    sum += num\n",
        "    num -= 1\n",
        "    print(sum)"
      ],
      "execution_count": null,
      "outputs": [
        {
          "output_type": "stream",
          "text": [
            "10\n",
            "19\n",
            "27\n",
            "34\n",
            "40\n",
            "45\n",
            "49\n",
            "52\n",
            "54\n",
            "55\n"
          ],
          "name": "stdout"
        }
      ]
    },
    {
      "cell_type": "code",
      "metadata": {
        "colab": {
          "base_uri": "https://localhost:8080/"
        },
        "id": "d63pJnevqJV-",
        "outputId": "590582ed-3366-434f-88bd-240cb335ded0"
      },
      "source": [
        "# Sum of natural numbers up to num\n",
        "\n",
        "num = 16\n",
        "\n",
        "if num < 0:\n",
        "   print(\"Enter a positive number\")\n",
        "else:\n",
        "   sum = 0\n",
        "   # use while loop to iterate until zero\n",
        "   while(num > 0):\n",
        "       sum += num\n",
        "       num -= 1\n",
        "   print(\"The sum is\", sum)\n"
      ],
      "execution_count": null,
      "outputs": [
        {
          "output_type": "stream",
          "text": [
            "The sum is 136\n"
          ],
          "name": "stdout"
        }
      ]
    },
    {
      "cell_type": "code",
      "metadata": {
        "colab": {
          "base_uri": "https://localhost:8080/"
        },
        "id": "kAJ8qkyVs5eR",
        "outputId": "165382dd-e774-49c1-c818-19cdd257ef94"
      },
      "source": [
        "# use of end function\n",
        "print(\"hello\", end=\" \")\n",
        "print(\"how\", end=\" \")\n",
        "print(\"are\",end=\" \")\n",
        "print(\"you\", end=\" \")"
      ],
      "execution_count": null,
      "outputs": [
        {
          "output_type": "stream",
          "text": [
            "hello how are you "
          ],
          "name": "stdout"
        }
      ]
    },
    {
      "cell_type": "code",
      "metadata": {
        "colab": {
          "base_uri": "https://localhost:8080/"
        },
        "id": "o0yYlYHytoKn",
        "outputId": "4411e506-0803-4be2-c0c1-b5909a023aa9"
      },
      "source": [
        "# sum of n natural n umber using for loop\n",
        "n=int(input(\"enter the number\"))\n",
        "sum=0\n",
        "\n",
        "for i in range(1,n+1):\n",
        "  sum=sum+i\n",
        "  print(sum)"
      ],
      "execution_count": null,
      "outputs": [
        {
          "output_type": "stream",
          "text": [
            "enter the number10\n",
            "1\n",
            "3\n",
            "6\n",
            "10\n",
            "15\n",
            "21\n",
            "28\n",
            "36\n",
            "45\n",
            "55\n"
          ],
          "name": "stdout"
        }
      ]
    },
    {
      "cell_type": "code",
      "metadata": {
        "colab": {
          "base_uri": "https://localhost:8080/"
        },
        "id": "JvzAniBjua9v",
        "outputId": "fc4b1569-88e8-40de-832f-6db21ec2597f"
      },
      "source": [
        "#programme to convet inches to centimetre\n",
        "inch=int(input(\"enter the length in inches \"))\n",
        "cm=inch*2.54\n",
        "print(cm)"
      ],
      "execution_count": null,
      "outputs": [
        {
          "output_type": "stream",
          "text": [
            "enter the length in inches10\n",
            "25.4\n"
          ],
          "name": "stdout"
        }
      ]
    },
    {
      "cell_type": "code",
      "metadata": {
        "colab": {
          "base_uri": "https://localhost:8080/"
        },
        "id": "kYWsSO-_vi-f",
        "outputId": "67d8d759-734f-415b-a668-7d82fe7df7d1"
      },
      "source": [
        "# programme to convert centimetre to inch\n",
        "def centi(c):\n",
        "  inch=c/2.54\n",
        "  return inch\n",
        "\n",
        "a=centi(172)\n",
        "print(a)"
      ],
      "execution_count": null,
      "outputs": [
        {
          "output_type": "stream",
          "text": [
            "67.71653543307086\n"
          ],
          "name": "stdout"
        }
      ]
    },
    {
      "cell_type": "code",
      "metadata": {
        "colab": {
          "base_uri": "https://localhost:8080/"
        },
        "id": "cV0Q_mXZvyQK",
        "outputId": "da93dd51-8430-4311-e4ca-7ca3b863bf42"
      },
      "source": [
        "n=6\n",
        "for i in range(n):\n",
        "   print(\"*\" * (i))"
      ],
      "execution_count": null,
      "outputs": [
        {
          "output_type": "stream",
          "text": [
            "\n",
            "*\n",
            "**\n",
            "***\n",
            "****\n",
            "*****\n"
          ],
          "name": "stdout"
        }
      ]
    },
    {
      "cell_type": "code",
      "metadata": {
        "colab": {
          "base_uri": "https://localhost:8080/"
        },
        "id": "lGyV4QHD22Sv",
        "outputId": "e911d094-8c23-48a2-dee1-6dd3b8fc617c"
      },
      "source": [
        "n=5\n",
        "for i in range (n):\n",
        "  print(\"*\"*(n-i))"
      ],
      "execution_count": null,
      "outputs": [
        {
          "output_type": "stream",
          "text": [
            "*****\n",
            "****\n",
            "***\n",
            "**\n",
            "*\n"
          ],
          "name": "stdout"
        }
      ]
    },
    {
      "cell_type": "code",
      "metadata": {
        "colab": {
          "base_uri": "https://localhost:8080/"
        },
        "id": "3IjpWYakx3vF",
        "outputId": "e42d00f3-ad73-4fda-9f0e-323e61c4b06f"
      },
      "source": [
        "print(\"hello\")"
      ],
      "execution_count": null,
      "outputs": [
        {
          "output_type": "stream",
          "text": [
            "hello\n"
          ],
          "name": "stdout"
        }
      ]
    },
    {
      "cell_type": "code",
      "metadata": {
        "colab": {
          "base_uri": "https://localhost:8080/",
          "height": 195
        },
        "id": "_fniyrf4J5vF",
        "outputId": "e8f05baf-6f60-429b-880a-35e8f7f47f7b"
      },
      "source": [
        "string='copyassignments.com'\n",
        "for i in range(string):\n",
        "  print(i)"
      ],
      "execution_count": null,
      "outputs": [
        {
          "output_type": "error",
          "ename": "TypeError",
          "evalue": "ignored",
          "traceback": [
            "\u001b[0;31m---------------------------------------------------------------------------\u001b[0m",
            "\u001b[0;31mTypeError\u001b[0m                                 Traceback (most recent call last)",
            "\u001b[0;32m<ipython-input-1-634ebd5679f1>\u001b[0m in \u001b[0;36m<module>\u001b[0;34m()\u001b[0m\n\u001b[1;32m      1\u001b[0m \u001b[0mstring\u001b[0m\u001b[0;34m=\u001b[0m\u001b[0;34m'copyassignments.com'\u001b[0m\u001b[0;34m\u001b[0m\u001b[0;34m\u001b[0m\u001b[0m\n\u001b[0;32m----> 2\u001b[0;31m \u001b[0;32mfor\u001b[0m \u001b[0mi\u001b[0m \u001b[0;32min\u001b[0m \u001b[0mrange\u001b[0m\u001b[0;34m(\u001b[0m\u001b[0mstring\u001b[0m\u001b[0;34m)\u001b[0m\u001b[0;34m:\u001b[0m\u001b[0;34m\u001b[0m\u001b[0;34m\u001b[0m\u001b[0m\n\u001b[0m\u001b[1;32m      3\u001b[0m   \u001b[0mprint\u001b[0m\u001b[0;34m(\u001b[0m\u001b[0mi\u001b[0m\u001b[0;34m)\u001b[0m\u001b[0;34m\u001b[0m\u001b[0;34m\u001b[0m\u001b[0m\n",
            "\u001b[0;31mTypeError\u001b[0m: 'str' object cannot be interpreted as an integer"
          ]
        }
      ]
    },
    {
      "cell_type": "code",
      "metadata": {
        "colab": {
          "base_uri": "https://localhost:8080/"
        },
        "id": "VJ5Yux-zKpoN",
        "outputId": "5279e063-20e0-40fc-cb9b-dc1b9d291929"
      },
      "source": [
        "print('\\U0001F917')\n",
        "print('\\U0001F637')\n",
        "print('\\U0001F62A')\n",
        "print(\"\\U0001F600\")\n"
      ],
      "execution_count": null,
      "outputs": [
        {
          "output_type": "stream",
          "text": [
            "🤗\n",
            "😷\n",
            "😪\n",
            "😀\n"
          ],
          "name": "stdout"
        }
      ]
    },
    {
      "cell_type": "code",
      "metadata": {
        "colab": {
          "base_uri": "https://localhost:8080/"
        },
        "id": "zb8yfaYWLiD-",
        "outputId": "43fb80c1-9ebc-453d-a511-9b41332b377d"
      },
      "source": [
        "a='example'\n",
        "print(a.find('m'))"
      ],
      "execution_count": null,
      "outputs": [
        {
          "output_type": "stream",
          "text": [
            "3\n"
          ],
          "name": "stdout"
        }
      ]
    },
    {
      "cell_type": "code",
      "metadata": {
        "colab": {
          "base_uri": "https://localhost:8080/"
        },
        "id": "xAKwuHKlL-L0",
        "outputId": "544ed06b-09a2-457e-9986-1f5b0b6c3972"
      },
      "source": [
        "a=123\n",
        "def fun():\n",
        "  a=[]\n",
        "print(type(a))"
      ],
      "execution_count": null,
      "outputs": [
        {
          "output_type": "stream",
          "text": [
            "<class 'int'>\n"
          ],
          "name": "stdout"
        }
      ]
    },
    {
      "cell_type": "code",
      "metadata": {
        "id": "YJNjdsPcL52a",
        "colab": {
          "base_uri": "https://localhost:8080/"
        },
        "outputId": "491e93aa-8403-4a7a-973b-f2ca2bad4454"
      },
      "source": [
        "# multiplication table\n",
        "n=int(input(\"enter the number :\"))\n",
        "for i in range(1,11):\n",
        "  print(n,\"x\",i,\"=\",((n)*i))"
      ],
      "execution_count": 2,
      "outputs": [
        {
          "output_type": "stream",
          "text": [
            "enter the number :17\n",
            "17 x 1 = 17\n",
            "17 x 2 = 34\n",
            "17 x 3 = 51\n",
            "17 x 4 = 68\n",
            "17 x 5 = 85\n",
            "17 x 6 = 102\n",
            "17 x 7 = 119\n",
            "17 x 8 = 136\n",
            "17 x 9 = 153\n",
            "17 x 10 = 170\n"
          ],
          "name": "stdout"
        }
      ]
    }
  ]
}