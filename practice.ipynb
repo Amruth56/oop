{
  "nbformat": 4,
  "nbformat_minor": 0,
  "metadata": {
    "colab": {
      "name": "practice.ipynb",
      "provenance": [],
      "authorship_tag": "ABX9TyMS4iA404o9Iw4PALOJqhWY",
      "include_colab_link": true
    },
    "kernelspec": {
      "name": "python3",
      "display_name": "Python 3"
    },
    "language_info": {
      "name": "python"
    }
  },
  "cells": [
    {
      "cell_type": "markdown",
      "metadata": {
        "id": "view-in-github",
        "colab_type": "text"
      },
      "source": [
        "<a href=\"https://colab.research.google.com/github/Amruth56/oop/blob/main/practice.ipynb\" target=\"_parent\"><img src=\"https://colab.research.google.com/assets/colab-badge.svg\" alt=\"Open In Colab\"/></a>"
      ]
    },
    {
      "cell_type": "code",
      "metadata": {
        "id": "1ju4Gf6xr-8d",
        "colab": {
          "base_uri": "https://localhost:8080/"
        },
        "outputId": "cfef5cf6-7c07-4df7-e7b2-72d92390546b"
      },
      "source": [
        "def fact(n):\n",
        "  num=1\n",
        "  for i in range (n):\n",
        "    num=num*(i+1)\n",
        "  return num\n",
        "a=int(input(\"enter a number of which you wanna fing the factorial :\"))\n",
        "print(fact(a))"
      ],
      "execution_count": null,
      "outputs": [
        {
          "output_type": "stream",
          "text": [
            "enter a number of which you wanna fing the factorial :5\n",
            "120\n"
          ],
          "name": "stdout"
        }
      ]
    },
    {
      "cell_type": "code",
      "metadata": {
        "colab": {
          "base_uri": "https://localhost:8080/"
        },
        "id": "0G_wHw9rSAfU",
        "outputId": "f0acf8c0-8a93-482d-e7e3-84110ac92a73"
      },
      "source": [
        "a=int(input(\"enter the number :\"))\n",
        "i=10\n",
        "while i>=1:\n",
        "  print(a,\"x\",i,\"=\",a*i)\n",
        "  i=i-1"
      ],
      "execution_count": null,
      "outputs": [
        {
          "output_type": "stream",
          "text": [
            "enter the number :4\n",
            "4 x 10 = 40\n",
            "4 x 9 = 36\n",
            "4 x 8 = 32\n",
            "4 x 7 = 28\n",
            "4 x 6 = 24\n",
            "4 x 5 = 20\n",
            "4 x 4 = 16\n",
            "4 x 3 = 12\n",
            "4 x 2 = 8\n",
            "4 x 1 = 4\n"
          ],
          "name": "stdout"
        }
      ]
    },
    {
      "cell_type": "code",
      "metadata": {
        "colab": {
          "base_uri": "https://localhost:8080/"
        },
        "id": "CzzT2WZwSG6L",
        "outputId": "4fbb34e1-83ee-49db-b3e8-605ca62ded34"
      },
      "source": [
        "a=int(input(\"enter the number \"))\n",
        "for i in range (1,11):\n",
        "  print(a,\"x\",i,\"=\",a*i)"
      ],
      "execution_count": null,
      "outputs": [
        {
          "output_type": "stream",
          "text": [
            "enter the number 4\n",
            "4 x 1 = 4\n",
            "4 x 2 = 8\n",
            "4 x 3 = 12\n",
            "4 x 4 = 16\n",
            "4 x 5 = 20\n",
            "4 x 6 = 24\n",
            "4 x 7 = 28\n",
            "4 x 8 = 32\n",
            "4 x 9 = 36\n",
            "4 x 10 = 40\n"
          ],
          "name": "stdout"
        }
      ]
    },
    {
      "cell_type": "code",
      "metadata": {
        "colab": {
          "base_uri": "https://localhost:8080/"
        },
        "id": "vGOa_Q6pSchS",
        "outputId": "8d4476c4-796d-48aa-d632-deb0d37c62fe"
      },
      "source": [
        "a=int(input(\"enter the first number \"))\n",
        "b=int(input(\"enter the second number \"))\n",
        "c=int(input(\"enter the third number \"))\n",
        "if (a>b and a>c):\n",
        "  print(a,\"is the greatest number\")\n",
        "if(b>a and b>c):\n",
        "  print(b,\"is the greatest number\")\n",
        "else:\n",
        "  print(c,\"is the greatest number\")"
      ],
      "execution_count": null,
      "outputs": [
        {
          "output_type": "stream",
          "text": [
            "enter the first number 9\n",
            "enter the second number 11\n",
            "enter the third number 3\n",
            "11 is the greatest number\n"
          ],
          "name": "stdout"
        }
      ]
    },
    {
      "cell_type": "code",
      "metadata": {
        "id": "Nt19ssl2SGQF",
        "colab": {
          "base_uri": "https://localhost:8080/"
        },
        "outputId": "84d5c164-aab4-4b2f-baa3-7c858619bafd"
      },
      "source": [
        "#to convert temperature from celcius to fahrenheit\n",
        "def temp(c):\n",
        "  f=(c*(9/5))+32\n",
        "  return f\n",
        "\n",
        "a=int(input(\"enter the temperature in celcius :\"))\n",
        "print(temp(a))\n"
      ],
      "execution_count": null,
      "outputs": [
        {
          "output_type": "stream",
          "text": [
            "enter the temperature in celcius :27\n",
            "80.6\n"
          ],
          "name": "stdout"
        }
      ]
    },
    {
      "cell_type": "code",
      "metadata": {
        "colab": {
          "base_uri": "https://localhost:8080/"
        },
        "id": "WqAVBb2vnWv4",
        "outputId": "5543469c-1384-4839-8d2f-5690bc357a11"
      },
      "source": [
        "#to print the sum of first n natural number\n",
        "n=int(input(\"enter the number\"))\n",
        "sum=n*(n+1)/2\n",
        "print(sum)"
      ],
      "execution_count": null,
      "outputs": [
        {
          "output_type": "stream",
          "text": [
            "enter the number10\n",
            "55.0\n"
          ],
          "name": "stdout"
        }
      ]
    },
    {
      "cell_type": "code",
      "metadata": {
        "colab": {
          "base_uri": "https://localhost:8080/"
        },
        "id": "c33yRAOMpyQZ",
        "outputId": "20247607-7742-43e4-fcdf-f7432cbd6ab6"
      },
      "source": [
        "# to print the sum of n natural number\n",
        "num=int(input(\"enter the number :\"))\n",
        "# num=10\n",
        "if num<0:\n",
        "  print(\"enter a positive number\")\n",
        "else:\n",
        "  sum=0\n",
        "\n",
        "  while(num>0):\n",
        "    sum += num\n",
        "    num -= 1\n",
        "    print(sum)"
      ],
      "execution_count": null,
      "outputs": [
        {
          "output_type": "stream",
          "text": [
            "10\n",
            "19\n",
            "27\n",
            "34\n",
            "40\n",
            "45\n",
            "49\n",
            "52\n",
            "54\n",
            "55\n"
          ],
          "name": "stdout"
        }
      ]
    },
    {
      "cell_type": "code",
      "metadata": {
        "colab": {
          "base_uri": "https://localhost:8080/"
        },
        "id": "d63pJnevqJV-",
        "outputId": "590582ed-3366-434f-88bd-240cb335ded0"
      },
      "source": [
        "# Sum of natural numbers up to num\n",
        "\n",
        "num = 16\n",
        "\n",
        "if num < 0:\n",
        "   print(\"Enter a positive number\")\n",
        "else:\n",
        "   sum = 0\n",
        "   # use while loop to iterate until zero\n",
        "   while(num > 0):\n",
        "       sum += num\n",
        "       num -= 1\n",
        "   print(\"The sum is\", sum)\n"
      ],
      "execution_count": null,
      "outputs": [
        {
          "output_type": "stream",
          "text": [
            "The sum is 136\n"
          ],
          "name": "stdout"
        }
      ]
    },
    {
      "cell_type": "code",
      "metadata": {
        "colab": {
          "base_uri": "https://localhost:8080/"
        },
        "id": "kAJ8qkyVs5eR",
        "outputId": "165382dd-e774-49c1-c818-19cdd257ef94"
      },
      "source": [
        "# use of end function\n",
        "print(\"hello\", end=\" \")\n",
        "print(\"how\", end=\" \")\n",
        "print(\"are\",end=\" \")\n",
        "print(\"you\", end=\" \")"
      ],
      "execution_count": null,
      "outputs": [
        {
          "output_type": "stream",
          "text": [
            "hello how are you "
          ],
          "name": "stdout"
        }
      ]
    },
    {
      "cell_type": "code",
      "metadata": {
        "colab": {
          "base_uri": "https://localhost:8080/"
        },
        "id": "o0yYlYHytoKn",
        "outputId": "4411e506-0803-4be2-c0c1-b5909a023aa9"
      },
      "source": [
        "# sum of n natural n umber using for loop\n",
        "n=int(input(\"enter the number\"))\n",
        "sum=0\n",
        "\n",
        "for i in range(1,n+1):\n",
        "  sum=sum+i\n",
        "  print(sum)"
      ],
      "execution_count": null,
      "outputs": [
        {
          "output_type": "stream",
          "text": [
            "enter the number10\n",
            "1\n",
            "3\n",
            "6\n",
            "10\n",
            "15\n",
            "21\n",
            "28\n",
            "36\n",
            "45\n",
            "55\n"
          ],
          "name": "stdout"
        }
      ]
    },
    {
      "cell_type": "code",
      "metadata": {
        "colab": {
          "base_uri": "https://localhost:8080/"
        },
        "id": "JvzAniBjua9v",
        "outputId": "fc4b1569-88e8-40de-832f-6db21ec2597f"
      },
      "source": [
        "#programme to convet inches to centimetre\n",
        "inch=int(input(\"enter the length in inches \"))\n",
        "cm=inch*2.54\n",
        "print(cm)"
      ],
      "execution_count": null,
      "outputs": [
        {
          "output_type": "stream",
          "text": [
            "enter the length in inches10\n",
            "25.4\n"
          ],
          "name": "stdout"
        }
      ]
    },
    {
      "cell_type": "code",
      "metadata": {
        "colab": {
          "base_uri": "https://localhost:8080/"
        },
        "id": "kYWsSO-_vi-f",
        "outputId": "67d8d759-734f-415b-a668-7d82fe7df7d1"
      },
      "source": [
        "# programme to convert centimetre to inch\n",
        "def centi(c):\n",
        "  inch=c/2.54\n",
        "  return inch\n",
        "\n",
        "a=centi(172)\n",
        "print(a)"
      ],
      "execution_count": null,
      "outputs": [
        {
          "output_type": "stream",
          "text": [
            "67.71653543307086\n"
          ],
          "name": "stdout"
        }
      ]
    },
    {
      "cell_type": "code",
      "metadata": {
        "colab": {
          "base_uri": "https://localhost:8080/"
        },
        "id": "cV0Q_mXZvyQK",
        "outputId": "da93dd51-8430-4311-e4ca-7ca3b863bf42"
      },
      "source": [
        "n=6\n",
        "for i in range(n):\n",
        "   print(\"*\" * (i))"
      ],
      "execution_count": null,
      "outputs": [
        {
          "output_type": "stream",
          "text": [
            "\n",
            "*\n",
            "**\n",
            "***\n",
            "****\n",
            "*****\n"
          ],
          "name": "stdout"
        }
      ]
    },
    {
      "cell_type": "code",
      "metadata": {
        "colab": {
          "base_uri": "https://localhost:8080/"
        },
        "id": "lGyV4QHD22Sv",
        "outputId": "e911d094-8c23-48a2-dee1-6dd3b8fc617c"
      },
      "source": [
        "n=5\n",
        "for i in range (n):\n",
        "  print(\"*\"*(n-i))"
      ],
      "execution_count": null,
      "outputs": [
        {
          "output_type": "stream",
          "text": [
            "*****\n",
            "****\n",
            "***\n",
            "**\n",
            "*\n"
          ],
          "name": "stdout"
        }
      ]
    },
    {
      "cell_type": "code",
      "metadata": {
        "colab": {
          "base_uri": "https://localhost:8080/"
        },
        "id": "3IjpWYakx3vF",
        "outputId": "e42d00f3-ad73-4fda-9f0e-323e61c4b06f"
      },
      "source": [
        "print(\"hello\")"
      ],
      "execution_count": null,
      "outputs": [
        {
          "output_type": "stream",
          "text": [
            "hello\n"
          ],
          "name": "stdout"
        }
      ]
    },
    {
      "cell_type": "code",
      "metadata": {
        "colab": {
          "base_uri": "https://localhost:8080/",
          "height": 195
        },
        "id": "_fniyrf4J5vF",
        "outputId": "e8f05baf-6f60-429b-880a-35e8f7f47f7b"
      },
      "source": [
        "# TO check whether string object can b interpreted or not\n",
        "string='copyassignments.com'\n",
        "for i in range(string):\n",
        "  print(i)"
      ],
      "execution_count": null,
      "outputs": [
        {
          "output_type": "error",
          "ename": "TypeError",
          "evalue": "ignored",
          "traceback": [
            "\u001b[0;31m---------------------------------------------------------------------------\u001b[0m",
            "\u001b[0;31mTypeError\u001b[0m                                 Traceback (most recent call last)",
            "\u001b[0;32m<ipython-input-1-634ebd5679f1>\u001b[0m in \u001b[0;36m<module>\u001b[0;34m()\u001b[0m\n\u001b[1;32m      1\u001b[0m \u001b[0mstring\u001b[0m\u001b[0;34m=\u001b[0m\u001b[0;34m'copyassignments.com'\u001b[0m\u001b[0;34m\u001b[0m\u001b[0;34m\u001b[0m\u001b[0m\n\u001b[0;32m----> 2\u001b[0;31m \u001b[0;32mfor\u001b[0m \u001b[0mi\u001b[0m \u001b[0;32min\u001b[0m \u001b[0mrange\u001b[0m\u001b[0;34m(\u001b[0m\u001b[0mstring\u001b[0m\u001b[0;34m)\u001b[0m\u001b[0;34m:\u001b[0m\u001b[0;34m\u001b[0m\u001b[0;34m\u001b[0m\u001b[0m\n\u001b[0m\u001b[1;32m      3\u001b[0m   \u001b[0mprint\u001b[0m\u001b[0;34m(\u001b[0m\u001b[0mi\u001b[0m\u001b[0;34m)\u001b[0m\u001b[0;34m\u001b[0m\u001b[0;34m\u001b[0m\u001b[0m\n",
            "\u001b[0;31mTypeError\u001b[0m: 'str' object cannot be interpreted as an integer"
          ]
        }
      ]
    },
    {
      "cell_type": "code",
      "metadata": {
        "colab": {
          "base_uri": "https://localhost:8080/"
        },
        "id": "VJ5Yux-zKpoN",
        "outputId": "5279e063-20e0-40fc-cb9b-dc1b9d291929"
      },
      "source": [
        "print('\\U0001F917')\n",
        "print('\\U0001F637')\n",
        "print('\\U0001F62A')\n",
        "print(\"\\U0001F600\")\n"
      ],
      "execution_count": null,
      "outputs": [
        {
          "output_type": "stream",
          "text": [
            "🤗\n",
            "😷\n",
            "😪\n",
            "😀\n"
          ],
          "name": "stdout"
        }
      ]
    },
    {
      "cell_type": "code",
      "metadata": {
        "colab": {
          "base_uri": "https://localhost:8080/"
        },
        "id": "zb8yfaYWLiD-",
        "outputId": "43fb80c1-9ebc-453d-a511-9b41332b377d"
      },
      "source": [
        "a='example'\n",
        "print(a.find('m'))"
      ],
      "execution_count": null,
      "outputs": [
        {
          "output_type": "stream",
          "text": [
            "3\n"
          ],
          "name": "stdout"
        }
      ]
    },
    {
      "cell_type": "code",
      "metadata": {
        "colab": {
          "base_uri": "https://localhost:8080/"
        },
        "id": "xAKwuHKlL-L0",
        "outputId": "544ed06b-09a2-457e-9986-1f5b0b6c3972"
      },
      "source": [
        "a=123\n",
        "def fun():\n",
        "  a=[]\n",
        "print(type(a))"
      ],
      "execution_count": null,
      "outputs": [
        {
          "output_type": "stream",
          "text": [
            "<class 'int'>\n"
          ],
          "name": "stdout"
        }
      ]
    },
    {
      "cell_type": "code",
      "metadata": {
        "id": "YJNjdsPcL52a",
        "colab": {
          "base_uri": "https://localhost:8080/"
        },
        "outputId": "491e93aa-8403-4a7a-973b-f2ca2bad4454"
      },
      "source": [
        "# multiplication table\n",
        "n=int(input(\"enter the number :\"))\n",
        "for i in range(1,11):\n",
        "  print(n,\"x\",i,\"=\",((n)*i))"
      ],
      "execution_count": null,
      "outputs": [
        {
          "output_type": "stream",
          "text": [
            "enter the number :17\n",
            "17 x 1 = 17\n",
            "17 x 2 = 34\n",
            "17 x 3 = 51\n",
            "17 x 4 = 68\n",
            "17 x 5 = 85\n",
            "17 x 6 = 102\n",
            "17 x 7 = 119\n",
            "17 x 8 = 136\n",
            "17 x 9 = 153\n",
            "17 x 10 = 170\n"
          ],
          "name": "stdout"
        }
      ]
    },
    {
      "cell_type": "code",
      "metadata": {
        "colab": {
          "base_uri": "https://localhost:8080/"
        },
        "id": "7ep55Ri1jboV",
        "outputId": "ee99b408-3267-4dcb-c0bd-8e17e9bf6d6e"
      },
      "source": [
        "a=\"iiit dwd\"\n",
        "print(a.upper())"
      ],
      "execution_count": null,
      "outputs": [
        {
          "output_type": "stream",
          "name": "stdout",
          "text": [
            "IIIT DWD\n"
          ]
        }
      ]
    },
    {
      "cell_type": "code",
      "metadata": {
        "colab": {
          "base_uri": "https://localhost:8080/"
        },
        "id": "GanReaunnw34",
        "outputId": "dc0345ce-5fb3-4af1-d4c0-7c8a9d5fa482"
      },
      "source": [
        "a=\"HELLO \"\n",
        "print(a.lower())"
      ],
      "execution_count": null,
      "outputs": [
        {
          "output_type": "stream",
          "name": "stdout",
          "text": [
            "hello \n"
          ]
        }
      ]
    },
    {
      "cell_type": "code",
      "metadata": {
        "colab": {
          "base_uri": "https://localhost:8080/"
        },
        "id": "DWWVLzGelGiq",
        "outputId": "e368a7eb-b342-43ae-fe45-2803568cb27b"
      },
      "source": [
        "a=\"iiit dwd\"\n",
        "print(a.split('i'))"
      ],
      "execution_count": null,
      "outputs": [
        {
          "output_type": "stream",
          "name": "stdout",
          "text": [
            "['', '', '', 't DWD']\n"
          ]
        }
      ]
    },
    {
      "cell_type": "code",
      "metadata": {
        "colab": {
          "base_uri": "https://localhost:8080/"
        },
        "id": "M7H0TWg2qePr",
        "outputId": "423d293b-c093-4e84-93d5-0da3638bde9e"
      },
      "source": [
        "a = int(input(\"Enter a number: \"))\n",
        "if a > 0:\n",
        "   print(\"Its a Positive number\")\n",
        "elif a == 0:\n",
        "   print(\"Its a Zero\")\n",
        "else:\n",
        "   print(\"Its a Negative number\")"
      ],
      "execution_count": null,
      "outputs": [
        {
          "output_type": "stream",
          "name": "stdout",
          "text": [
            "Enter a number: -2\n",
            "Its a Negative number\n"
          ]
        }
      ]
    },
    {
      "cell_type": "code",
      "metadata": {
        "colab": {
          "base_uri": "https://localhost:8080/"
        },
        "id": "wubc0asrov2F",
        "outputId": "13e8c7c7-f286-4e3b-c0f6-87c41187e0ac"
      },
      "source": [
        "a=int(input(\"enter your age :\"))\n",
        "b=input(\"enter your country name :\")\n",
        "if a>34 and b==\"india\":\n",
        "  print(\"you are eligible to contest\")\n",
        "else:\n",
        "  print(\"you are not eligible\")"
      ],
      "execution_count": null,
      "outputs": [
        {
          "output_type": "stream",
          "name": "stdout",
          "text": [
            "enter your age :56\n",
            "enter your country name :india\n",
            "you are eligible to contest\n"
          ]
        }
      ]
    },
    {
      "cell_type": "code",
      "metadata": {
        "colab": {
          "base_uri": "https://localhost:8080/"
        },
        "id": "ApHIh6T5s4Rm",
        "outputId": "f9748ffb-4ad7-48ed-fb1d-4b9804543b5a"
      },
      "source": [
        "a = [11,44,22,66,55,77,99,88,33]\n",
        "a.sort()\n",
        "print('List in Ascending Order: ', a)\n",
        "\n",
        "a.sort(reverse=True)\n",
        "print('List in Descending Order: ', a)\n",
        "print(max(a))\n",
        "print(min(a))"
      ],
      "execution_count": null,
      "outputs": [
        {
          "output_type": "stream",
          "name": "stdout",
          "text": [
            "List in Ascending Order:  [11, 22, 33, 44, 55, 66, 77, 88, 99]\n",
            "List in Descending Order:  [99, 88, 77, 66, 55, 44, 33, 22, 11]\n",
            "99\n",
            "11\n"
          ]
        }
      ]
    },
    {
      "cell_type": "code",
      "metadata": {
        "colab": {
          "base_uri": "https://localhost:8080/"
        },
        "id": "6VrxjnbxqWyp",
        "outputId": "a21f64e4-7010-4384-ac0b-27d370cf41e2"
      },
      "source": [
        "a=['sunday','monday','tuesday','wednesday','thursday','friday','saturday']\n",
        "print(a[0],a[1],a[5],a[6])\n",
        "a.insert(7,\"qwerty\")\n",
        "print(a)\n",
        "del a[1]\n",
        "print(a)\n",
        "a.insert(len(a),5)\n",
        "print(a)\n"
      ],
      "execution_count": null,
      "outputs": [
        {
          "output_type": "stream",
          "name": "stdout",
          "text": [
            "sunday monday friday saturday\n",
            "['sunday', 'monday', 'tuesday', 'wednesday', 'thursday', 'friday', 'saturday', 'qwerty']\n",
            "['sunday', 'tuesday', 'wednesday', 'thursday', 'friday', 'saturday', 'qwerty']\n",
            "['sunday', 'tuesday', 'wednesday', 'thursday', 'friday', 'saturday', 'qwerty', 5]\n"
          ]
        }
      ]
    },
    {
      "cell_type": "code",
      "metadata": {
        "colab": {
          "base_uri": "https://localhost:8080/"
        },
        "id": "HIxGC4rLwxZ4",
        "outputId": "1974736b-b85d-49ed-d3a6-6bcec3aecaaa"
      },
      "source": [
        "dict={\"brand\":\"suzuki\", \"model\":\"sx4\",\"year\":1999}\n",
        "for key,value in dict.items():\n",
        "  print(key,\"\\t\")\n",
        "for key,values in dict.items():\n",
        "  print(value,\" \")\n",
        "for key,values in dict.items():\n",
        "  print(key,value)"
      ],
      "execution_count": null,
      "outputs": [
        {
          "output_type": "stream",
          "name": "stdout",
          "text": [
            "brand \t\n",
            "model \t\n",
            "year \t\n",
            "1999  \n",
            "1999  \n",
            "1999  \n",
            "brand 1999\n",
            "model 1999\n",
            "year 1999\n"
          ]
        }
      ]
    },
    {
      "cell_type": "code",
      "metadata": {
        "colab": {
          "base_uri": "https://localhost:8080/"
        },
        "id": "gyUgMtZD3ZCN",
        "outputId": "14b4aa0e-a625-4388-b337-7cc79d5cc8d8"
      },
      "source": [
        "year = int(input(\"Enter a year: \"))\n",
        "\n",
        "if (year % 4) == 0:\n",
        "   if (year % 100) == 0:\n",
        "       if (year % 400) == 0:\n",
        "           print(\"%d is a leap year\"%year)\n",
        "       else:\n",
        "           print(\"%d is not a leap year\"%year)\n",
        "   else:\n",
        "       print(\"%d is a leap year\"%year)\n",
        "else:\n",
        "   print(\"%d is not a leap year\"%year)"
      ],
      "execution_count": null,
      "outputs": [
        {
          "output_type": "stream",
          "name": "stdout",
          "text": [
            "Enter a year: 2000\n",
            "2000 is a leap year\n"
          ]
        }
      ]
    },
    {
      "cell_type": "code",
      "metadata": {
        "colab": {
          "base_uri": "https://localhost:8080/"
        },
        "id": "hwRbd6Qq6amV",
        "outputId": "f7e45bbb-70ef-426e-eb78-1baf8c92d8f0"
      },
      "source": [
        "n = int(input(\"enter the number :\"))\n",
        "if n % 2 == 1:\n",
        "    print(\"Weird\")\n",
        "elif n % 2 == 0 and 2 <= n <= 5:\n",
        "    print(\"Not Weird\")\n",
        "elif n % 2 == 0 and 6 <= n <= 20:\n",
        "    print(\"Weird\")\n",
        "else:\n",
        "    print(\"Not Weird\")"
      ],
      "execution_count": null,
      "outputs": [
        {
          "output_type": "stream",
          "name": "stdout",
          "text": [
            "enter the number :990\n",
            "Not Weird\n"
          ]
        }
      ]
    },
    {
      "cell_type": "code",
      "metadata": {
        "id": "pAX5X2jG-ml-"
      },
      "source": [
        "party = ['Adela', 'Fleda', 'Owen', 'May', 'Mona', 'Gilbert', 'Ford']\n",
        "name = 'Adela'\n",
        "index = party.index(name)\n",
        "def f(x):\n",
        "  if index >= len(party)/2 and index != len(party)-1:\n",
        "    print(\"Fashionably late\")\n",
        "  else:\n",
        "    return false\n",
        "    f(x)"
      ],
      "execution_count": null,
      "outputs": []
    },
    {
      "cell_type": "code",
      "metadata": {
        "colab": {
          "base_uri": "https://localhost:8080/"
        },
        "id": "x0bq7EUOQkDq",
        "outputId": "9b162aaa-de6c-4621-9fd9-bf68443acd8b"
      },
      "source": [
        "Basic_pay=int(input(\"enter the basic saler :\"))\n",
        "HRA= Basic_pay * (20/100)\n",
        "DA= Basic_pay*(40/100)\n",
        "GROSS_PAY = HRA + DA + Basic_pay\n",
        "print(GROSS_PAY)"
      ],
      "execution_count": null,
      "outputs": [
        {
          "output_type": "stream",
          "name": "stdout",
          "text": [
            "enter the basic saler :20000\n",
            "32000.0\n"
          ]
        }
      ]
    }
  ]
}