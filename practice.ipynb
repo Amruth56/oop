{
  "nbformat": 4,
  "nbformat_minor": 0,
  "metadata": {
    "colab": {
      "name": "Untitled0.ipynb",
      "provenance": [],
      "authorship_tag": "ABX9TyPPmEXA7LVg7/C+m/2aKOEn",
      "include_colab_link": true
    },
    "kernelspec": {
      "name": "python3",
      "display_name": "Python 3"
    },
    "language_info": {
      "name": "python"
    }
  },
  "cells": [
    {
      "cell_type": "markdown",
      "metadata": {
        "id": "view-in-github",
        "colab_type": "text"
      },
      "source": [
        "<a href=\"https://colab.research.google.com/github/Amruth56/oop/blob/main/practice.ipynb\" target=\"_parent\"><img src=\"https://colab.research.google.com/assets/colab-badge.svg\" alt=\"Open In Colab\"/></a>"
      ]
    },
    {
      "cell_type": "code",
      "metadata": {
        "id": "1ju4Gf6xr-8d",
        "colab": {
          "base_uri": "https://localhost:8080/"
        },
        "outputId": "cfef5cf6-7c07-4df7-e7b2-72d92390546b"
      },
      "source": [
        "def fact(n):\n",
        "  num=1\n",
        "  for i in range (n):\n",
        "    num=num*(i+1)\n",
        "  return num\n",
        "a=int(input(\"enter a number of which you wanna fing the factorial :\"))\n",
        "print(fact(a))"
      ],
      "execution_count": 2,
      "outputs": [
        {
          "output_type": "stream",
          "text": [
            "enter a number of which you wanna fing the factorial :5\n",
            "120\n"
          ],
          "name": "stdout"
        }
      ]
    },
    {
      "cell_type": "code",
      "metadata": {
        "colab": {
          "base_uri": "https://localhost:8080/"
        },
        "id": "0G_wHw9rSAfU",
        "outputId": "f0acf8c0-8a93-482d-e7e3-84110ac92a73"
      },
      "source": [
        "a=int(input(\"enter the number :\"))\n",
        "i=10\n",
        "while i>=1:\n",
        "  print(a,\"x\",i,\"=\",a*i)\n",
        "  i=i-1"
      ],
      "execution_count": 5,
      "outputs": [
        {
          "output_type": "stream",
          "text": [
            "enter the number :4\n",
            "4 x 10 = 40\n",
            "4 x 9 = 36\n",
            "4 x 8 = 32\n",
            "4 x 7 = 28\n",
            "4 x 6 = 24\n",
            "4 x 5 = 20\n",
            "4 x 4 = 16\n",
            "4 x 3 = 12\n",
            "4 x 2 = 8\n",
            "4 x 1 = 4\n"
          ],
          "name": "stdout"
        }
      ]
    },
    {
      "cell_type": "code",
      "metadata": {
        "colab": {
          "base_uri": "https://localhost:8080/"
        },
        "id": "CzzT2WZwSG6L",
        "outputId": "4fbb34e1-83ee-49db-b3e8-605ca62ded34"
      },
      "source": [
        "a=int(input(\"enter the number \"))\n",
        "for i in range (1,11):\n",
        "  print(a,\"x\",i,\"=\",a*i)"
      ],
      "execution_count": 7,
      "outputs": [
        {
          "output_type": "stream",
          "text": [
            "enter the number 4\n",
            "4 x 1 = 4\n",
            "4 x 2 = 8\n",
            "4 x 3 = 12\n",
            "4 x 4 = 16\n",
            "4 x 5 = 20\n",
            "4 x 6 = 24\n",
            "4 x 7 = 28\n",
            "4 x 8 = 32\n",
            "4 x 9 = 36\n",
            "4 x 10 = 40\n"
          ],
          "name": "stdout"
        }
      ]
    },
    {
      "cell_type": "code",
      "metadata": {
        "colab": {
          "base_uri": "https://localhost:8080/"
        },
        "id": "vGOa_Q6pSchS",
        "outputId": "8d4476c4-796d-48aa-d632-deb0d37c62fe"
      },
      "source": [
        "a=int(input(\"enter the first number \"))\n",
        "b=int(input(\"enter the second number \"))\n",
        "c=int(input(\"enter the third number \"))\n",
        "if (a>b and a>c):\n",
        "  print(a,\"is the greatest number\")\n",
        "if(b>a and b>c):\n",
        "  print(b,\"is the greatest number\")\n",
        "else:\n",
        "  print(c,\"is the greatest number\")"
      ],
      "execution_count": 10,
      "outputs": [
        {
          "output_type": "stream",
          "text": [
            "enter the first number 9\n",
            "enter the second number 11\n",
            "enter the third number 3\n",
            "11 is the greatest number\n"
          ],
          "name": "stdout"
        }
      ]
    },
    {
      "cell_type": "code",
      "metadata": {
        "colab": {
          "base_uri": "https://localhost:8080/"
        },
        "id": "LZLIobM2U28C",
        "outputId": "59fc9d9d-5cb2-439f-ce84-6dfd91783327"
      },
      "source": [
        "def greatest(num1,num2,num3):\n",
        "  if(num1>num2 and num1 >num3):\n",
        "    print(num1,\"is the greatest number \")\n",
        "  if(num2>num1 and num2>num3):\n",
        "    print(num2,'is the greatest number ')\n",
        "  if(num3>num1 and num3>num2):\n",
        "    print(num3,'is the greatest number ')\n",
        "    # return greatest\n",
        "\n",
        "a=int(input(\"enter the first number \"))\n",
        "b=int(input(\"enter the second number \"))\n",
        "c=int(input(\"enter the third number \"))\n",
        "\n",
        "e=greatest(a,b,c)\n",
        "print(e)\n"
      ],
      "execution_count": 16,
      "outputs": [
        {
          "output_type": "stream",
          "text": [
            "enter the first number 3\n",
            "enter the second number 5\n",
            "enter the third number 1\n",
            "5 is the greatest number \n",
            "None\n"
          ],
          "name": "stdout"
        }
      ]
    },
    {
      "cell_type": "code",
      "metadata": {
        "id": "Nt19ssl2SGQF"
      },
      "source": [
        ""
      ],
      "execution_count": null,
      "outputs": []
    }
  ]
}