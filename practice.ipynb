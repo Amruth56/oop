{
  "nbformat": 4,
  "nbformat_minor": 0,
  "metadata": {
    "colab": {
      "name": "Untitled0.ipynb",
      "provenance": [],
      "authorship_tag": "ABX9TyPJ6H1MENy60k8SEnuT79d8",
      "include_colab_link": true
    },
    "kernelspec": {
      "name": "python3",
      "display_name": "Python 3"
    },
    "language_info": {
      "name": "python"
    }
  },
  "cells": [
    {
      "cell_type": "markdown",
      "metadata": {
        "id": "view-in-github",
        "colab_type": "text"
      },
      "source": [
        "<a href=\"https://colab.research.google.com/github/Amruth56/oop/blob/main/practice.ipynb\" target=\"_parent\"><img src=\"https://colab.research.google.com/assets/colab-badge.svg\" alt=\"Open In Colab\"/></a>"
      ]
    },
    {
      "cell_type": "code",
      "metadata": {
        "id": "1ju4Gf6xr-8d",
        "colab": {
          "base_uri": "https://localhost:8080/"
        },
        "outputId": "cfef5cf6-7c07-4df7-e7b2-72d92390546b"
      },
      "source": [
        "def fact(n):\n",
        "  num=1\n",
        "  for i in range (n):\n",
        "    num=num*(i+1)\n",
        "  return num\n",
        "a=int(input(\"enter a number of which you wanna fing the factorial :\"))\n",
        "print(fact(a))"
      ],
      "execution_count": 2,
      "outputs": [
        {
          "output_type": "stream",
          "text": [
            "enter a number of which you wanna fing the factorial :5\n",
            "120\n"
          ],
          "name": "stdout"
        }
      ]
    },
    {
      "cell_type": "code",
      "metadata": {
        "id": "OWJAJI1ZQmlq"
      },
      "source": [
        ""
      ],
      "execution_count": null,
      "outputs": []
    }
  ]
}