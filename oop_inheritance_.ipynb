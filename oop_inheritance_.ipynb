{
  "nbformat": 4,
  "nbformat_minor": 0,
  "metadata": {
    "colab": {
      "name": "oop_inheritance_.ipynb",
      "provenance": [],
      "collapsed_sections": [],
      "authorship_tag": "ABX9TyN/wHCiUfyWqHJrVbQHubsr",
      "include_colab_link": true
    },
    "kernelspec": {
      "name": "python3",
      "display_name": "Python 3"
    },
    "language_info": {
      "name": "python"
    }
  },
  "cells": [
    {
      "cell_type": "markdown",
      "metadata": {
        "id": "view-in-github",
        "colab_type": "text"
      },
      "source": [
        "<a href=\"https://colab.research.google.com/github/Amruth56/oop/blob/main/oop_inheritance_.ipynb\" target=\"_parent\"><img src=\"https://colab.research.google.com/assets/colab-badge.svg\" alt=\"Open In Colab\"/></a>"
      ]
    },
    {
      "cell_type": "markdown",
      "metadata": {
        "id": "w9sI5FumO0eY"
      },
      "source": [
        "***OBJECT ORIENTED PROGRAMMING IN PYTHON***"
      ]
    },
    {
      "cell_type": "markdown",
      "metadata": {
        "id": "vbwv9oX2T3NJ"
      },
      "source": [
        "**we ae not using ____init____ variable here**"
      ]
    },
    {
      "cell_type": "code",
      "metadata": {
        "colab": {
          "base_uri": "https://localhost:8080/"
        },
        "id": "VeTsTeiO7-9L",
        "outputId": "2fa980c2-5761-4089-fef2-e9054b2a87f2"
      },
      "source": [
        "class computer:\n",
        "  def configurations(self):\n",
        "    print(\"8gb\",'512gb','2.5hz')\n",
        "  def config2(self):\n",
        "    print(\"16gb\",\"512gb\",\"2.2hz\")\n",
        "\n",
        "\n",
        "comp1=computer()\n",
        "comp2=computer()\n",
        "computer.configurations(comp1)\n",
        "computer.config2(comp2)\n",
        "print(\"\\n\")\n",
        "\n",
        "comp1.configurations()\n",
        "comp2.config2()\n",
        "comp1.config2()"
      ],
      "execution_count": null,
      "outputs": [
        {
          "output_type": "stream",
          "name": "stdout",
          "text": [
            "8gb 512gb 2.5hz\n",
            "16gb 512gb 2.2hz\n",
            "\n",
            "\n",
            "8gb 512gb 2.5hz\n",
            "16gb 512gb 2.2hz\n",
            "16gb 512gb 2.2hz\n"
          ]
        }
      ]
    },
    {
      "cell_type": "markdown",
      "metadata": {
        "id": "i19mC6mUTxeG"
      },
      "source": [
        "**using  ______init__ variable**"
      ]
    },
    {
      "cell_type": "code",
      "metadata": {
        "colab": {
          "base_uri": "https://localhost:8080/"
        },
        "id": "jBlu1ms5UP3h",
        "outputId": "838915ae-44ad-45ba-9865-e6b16ac95dc2"
      },
      "source": [
        "class computer:\n",
        "   \n",
        "  def __init__(self,ram,rom):\n",
        "     self.ram=ram\n",
        "     self.rom=rom\n",
        "    \n",
        "  def configuration(self) :\n",
        "    print(\"configuration is \",self.ram,self.rom)\n",
        "\n",
        "\n",
        "comp1=computer(8,512)\n",
        "comp2=computer(16,\"1TB\")\n",
        "\n",
        "comp1.configuration()\n",
        "comp2.configuration()\n"
      ],
      "execution_count": null,
      "outputs": [
        {
          "output_type": "stream",
          "name": "stdout",
          "text": [
            "configuration is  8 512\n",
            "configuration is  16 1TB\n"
          ]
        }
      ]
    },
    {
      "cell_type": "code",
      "metadata": {
        "colab": {
          "base_uri": "https://localhost:8080/"
        },
        "id": "m0dTFaL805Ul",
        "outputId": "32ac2fa3-0e57-4809-bbd3-73691e5a2a0f"
      },
      "source": [
        "class personal_info:\n",
        "\n",
        "  def __init__(self,name,age):\n",
        "    self.name=name\n",
        "    self.age=age\n",
        "\n",
        "  def my_self(self):\n",
        "    print(\"my name is\",self.name, \"and my age is\",self.age)\n",
        "\n",
        "  my1=personal_info(\"amruth\",19)\n",
        "  my1.my_self()\n"
      ],
      "execution_count": null,
      "outputs": [
        {
          "output_type": "stream",
          "name": "stdout",
          "text": [
            "my name is amruth and my age is 19\n"
          ]
        }
      ]
    },
    {
      "cell_type": "code",
      "metadata": {
        "colab": {
          "base_uri": "https://localhost:8080/"
        },
        "id": "8uTvNBJs2Vbd",
        "outputId": "46551c2b-813f-4c3b-a4f9-53d8795747c6"
      },
      "source": [
        "class comp:\n",
        "\n",
        "  def __init__(self):\n",
        "    self.name=\"hp\"\n",
        "    self.age=14\n",
        "\n",
        "info=comp( )\n",
        "print(info.name)"
      ],
      "execution_count": null,
      "outputs": [
        {
          "output_type": "stream",
          "name": "stdout",
          "text": [
            "hp\n"
          ]
        }
      ]
    },
    {
      "cell_type": "code",
      "metadata": {
        "colab": {
          "base_uri": "https://localhost:8080/"
        },
        "id": "yLo9iWuFSnnB",
        "outputId": "30099912-11be-4dbd-9fdd-36fcc5c1ecf9"
      },
      "source": [
        "class person:\n",
        "  name=\"John\"\n",
        "  age=25\n",
        "  country=\"India\"\n",
        "\n",
        "x=getattr(person,'age')\n",
        "print(x)"
      ],
      "execution_count": null,
      "outputs": [
        {
          "output_type": "stream",
          "name": "stdout",
          "text": [
            "25\n"
          ]
        }
      ]
    },
    {
      "cell_type": "code",
      "metadata": {
        "colab": {
          "base_uri": "https://localhost:8080/"
        },
        "id": "WKLkcVzdb35E",
        "outputId": "6a9ff842-656d-4beb-9bd2-4c8bc49ac580"
      },
      "source": [
        "x=list(range(2,8,2))\n",
        "print(x)\n",
        "res=x[-1]+x[1]\n",
        "print(res)"
      ],
      "execution_count": null,
      "outputs": [
        {
          "output_type": "stream",
          "name": "stdout",
          "text": [
            "[2, 4, 6]\n",
            "10\n"
          ]
        }
      ]
    },
    {
      "cell_type": "code",
      "metadata": {
        "colab": {
          "base_uri": "https://localhost:8080/"
        },
        "id": "kzgBnxEGiR2w",
        "outputId": "7ccfb7f1-d353-4097-b671-1019b0e30e55"
      },
      "source": [
        "l=[]\n",
        "print(not l)"
      ],
      "execution_count": null,
      "outputs": [
        {
          "output_type": "stream",
          "name": "stdout",
          "text": [
            "True\n"
          ]
        }
      ]
    },
    {
      "cell_type": "code",
      "metadata": {
        "id": "JMQetmNumT-o",
        "colab": {
          "base_uri": "https://localhost:8080/"
        },
        "outputId": "490ba001-a7b3-49a2-9476-0aa8e19cc239"
      },
      "source": [
        "str=\"hello\"\n",
        "print(str[2])\n",
        "# str[3]=\"a\"\n",
        "\n",
        "print(str)"
      ],
      "execution_count": null,
      "outputs": [
        {
          "output_type": "stream",
          "name": "stdout",
          "text": [
            "l\n",
            "hello\n"
          ]
        }
      ]
    },
    {
      "cell_type": "code",
      "metadata": {
        "colab": {
          "base_uri": "https://localhost:8080/",
          "height": 201
        },
        "id": "J1ruX3ySRCBR",
        "outputId": "c7669d9c-f89d-4b72-e134-44b5f7a9a37c"
      },
      "source": [
        "myDict={1:\"a\",2:\"b\",3:\"c\",4:\"d\",5:\"e\"}\n",
        "myDict.pop()\n",
        "print(myDict)"
      ],
      "execution_count": null,
      "outputs": [
        {
          "output_type": "error",
          "ename": "TypeError",
          "evalue": "ignored",
          "traceback": [
            "\u001b[0;31m---------------------------------------------------------------------------\u001b[0m",
            "\u001b[0;31mTypeError\u001b[0m                                 Traceback (most recent call last)",
            "\u001b[0;32m<ipython-input-3-2aec0b05e216>\u001b[0m in \u001b[0;36m<module>\u001b[0;34m()\u001b[0m\n\u001b[1;32m      1\u001b[0m \u001b[0mmyDict\u001b[0m\u001b[0;34m=\u001b[0m\u001b[0;34m{\u001b[0m\u001b[0;36m1\u001b[0m\u001b[0;34m:\u001b[0m\u001b[0;34m\"a\"\u001b[0m\u001b[0;34m,\u001b[0m\u001b[0;36m2\u001b[0m\u001b[0;34m:\u001b[0m\u001b[0;34m\"b\"\u001b[0m\u001b[0;34m,\u001b[0m\u001b[0;36m3\u001b[0m\u001b[0;34m:\u001b[0m\u001b[0;34m\"c\"\u001b[0m\u001b[0;34m,\u001b[0m\u001b[0;36m4\u001b[0m\u001b[0;34m:\u001b[0m\u001b[0;34m\"d\"\u001b[0m\u001b[0;34m,\u001b[0m\u001b[0;36m5\u001b[0m\u001b[0;34m:\u001b[0m\u001b[0;34m\"e\"\u001b[0m\u001b[0;34m}\u001b[0m\u001b[0;34m\u001b[0m\u001b[0;34m\u001b[0m\u001b[0m\n\u001b[0;32m----> 2\u001b[0;31m \u001b[0mmyDict\u001b[0m\u001b[0;34m.\u001b[0m\u001b[0mpop\u001b[0m\u001b[0;34m(\u001b[0m\u001b[0;34m)\u001b[0m\u001b[0;34m\u001b[0m\u001b[0;34m\u001b[0m\u001b[0m\n\u001b[0m\u001b[1;32m      3\u001b[0m \u001b[0mprint\u001b[0m\u001b[0;34m(\u001b[0m\u001b[0mmyDict\u001b[0m\u001b[0;34m)\u001b[0m\u001b[0;34m\u001b[0m\u001b[0;34m\u001b[0m\u001b[0m\n",
            "\u001b[0;31mTypeError\u001b[0m: pop expected at least 1 arguments, got 0"
          ]
        }
      ]
    },
    {
      "cell_type": "code",
      "metadata": {
        "colab": {
          "base_uri": "https://localhost:8080/"
        },
        "id": "8Qa-IUFNYKUO",
        "outputId": "54f3edef-189c-44e0-fbad-9ec63fc47edb"
      },
      "source": [
        "class person:\n",
        "  def __init__(self,name,age):\n",
        "    self.name=name\n",
        "    self.age=age\n",
        "\n",
        "p1=person(\"amruth\",19)\n",
        "print(p1.name)\n",
        "print(p1.age)\n",
        "print(p1)"
      ],
      "execution_count": null,
      "outputs": [
        {
          "output_type": "stream",
          "name": "stdout",
          "text": [
            "amruth\n",
            "19\n",
            "<__main__.person object at 0x7f58bf5f5b10>\n"
          ]
        }
      ]
    },
    {
      "cell_type": "code",
      "metadata": {
        "colab": {
          "base_uri": "https://localhost:8080/"
        },
        "id": "j8aY13WbYklO",
        "outputId": "1534aabf-c870-4450-f561-8e755da78ebc"
      },
      "source": [
        "class car:\n",
        "  def __init__(self,model,milage):\n",
        "    self.model=model\n",
        "    self.milage=milage\n",
        "\n",
        "suzuki=car(\"Swift\",30)\n",
        "honda=car(\"city\",22)\n",
        "suzuki_1=car(\"sx4\",7)\n",
        "\n",
        "print(suzuki.model, suzuki.milage)\n",
        "print(suzuki_1.model,suzuki_1.milage)"
      ],
      "execution_count": null,
      "outputs": [
        {
          "output_type": "stream",
          "name": "stdout",
          "text": [
            "Swift 30\n",
            "sx4 7\n"
          ]
        }
      ]
    },
    {
      "cell_type": "code",
      "metadata": {
        "colab": {
          "base_uri": "https://localhost:8080/"
        },
        "id": "y-B6DMqI0CEs",
        "outputId": "9f9a76a4-22c5-4b21-90a2-69362908bbe1"
      },
      "source": [
        "class planet:\n",
        "  def __init__(self,name,radius,system):\n",
        "    self.name=name\n",
        "    self.radius=radius\n",
        "    self.system=system\n",
        "\n",
        "  def orbit(self):\n",
        "    return f\"planet {self.name} is in the {self.system} solar\"\n",
        "\n",
        "earth=planet('earth',6379000,'solar')\n",
        "print(f\"planet name is {earth.name}\")\n",
        "print(f\"planet radius is {earth.radius}\")\n",
        "print(f\"planet is in {earth.system} solar\")\n",
        "\n",
        "print(earth.orbit())"
      ],
      "execution_count": null,
      "outputs": [
        {
          "output_type": "stream",
          "name": "stdout",
          "text": [
            "planet name is earth\n",
            "planet radius is 6379000\n",
            "planet is in solar solar\n",
            "planet earth is in the solar solar\n"
          ]
        }
      ]
    },
    {
      "cell_type": "code",
      "metadata": {
        "colab": {
          "base_uri": "https://localhost:8080/"
        },
        "id": "8BcVRk522Oqd",
        "outputId": "78010084-7e66-46ac-c55c-d9436f370a9c"
      },
      "source": [
        "class car:\n",
        "  def __init__(self,model,color):\n",
        "    self.model=model\n",
        "    self.color=color\n",
        "\n",
        "  def sh(self):\n",
        "    print(f\"car {self.model} color is {self.color}\")\n",
        "\n",
        "audi=car(\"audi a4\",\"white\")\n",
        "ferrari=car(\"ferrari 488\",\"red\")\n",
        "\n",
        "audi.sh()\n",
        "ferrari.sh()"
      ],
      "execution_count": null,
      "outputs": [
        {
          "output_type": "stream",
          "name": "stdout",
          "text": [
            "car audi a4 color is white\n",
            "car ferrari 488 color is red\n"
          ]
        }
      ]
    },
    {
      "cell_type": "code",
      "metadata": {
        "colab": {
          "base_uri": "https://localhost:8080/"
        },
        "id": "mfsUL8Z9GDqE",
        "outputId": "828982da-fd4d-4522-b969-1ff671825e13"
      },
      "source": [
        "class animal:\n",
        "\n",
        "  def __init__(self,name,type):\n",
        "    self.name=name\n",
        "    self.type=type\n",
        "\n",
        "  def cal(hello):\n",
        "    print(f\"{hello.name} is a {hello.type} animal\")\n",
        "\n",
        "cat=animal(\"cat\",\"pet\")\n",
        "tiget=animal(\"tiget\",\"wild\")\n",
        "cow=animal(\"cow\",\"domestic\")\n",
        "\n",
        "cat.cal()\n",
        "print(f\"{cat.name} can be replaced by a dog\")\n",
        "tiget.cal()\n",
        "cow.cal()\n",
        "print(cat.type)"
      ],
      "execution_count": null,
      "outputs": [
        {
          "output_type": "stream",
          "name": "stdout",
          "text": [
            "cat is a pet animal\n",
            "cat can be replaced by a dog\n",
            "tiget is a wild animal\n",
            "cow is a domestic animal\n",
            "pet\n"
          ]
        }
      ]
    },
    {
      "cell_type": "code",
      "metadata": {
        "colab": {
          "base_uri": "https://localhost:8080/"
        },
        "id": "aZP9dfSmwdeE",
        "outputId": "195f0524-327d-45e1-cb2a-1658680f514b"
      },
      "source": [
        "# single inheritance\n",
        "\n",
        "class parent:\n",
        "  def show(self):\n",
        "    print(\"Parent method\")\n",
        "class Child(parent):\n",
        "  def display(self):\n",
        "    print(\"Child method\")\n",
        "c = Child()\n",
        "c.display()\n",
        "c.show()\n",
        "\n",
        "x=parent()\n",
        "x.show()"
      ],
      "execution_count": null,
      "outputs": [
        {
          "output_type": "stream",
          "name": "stdout",
          "text": [
            "Child method\n",
            "Parent method\n",
            "Parent method\n"
          ]
        }
      ]
    },
    {
      "cell_type": "code",
      "metadata": {
        "colab": {
          "base_uri": "https://localhost:8080/"
        },
        "id": "dlK6UJ-3wkKB",
        "outputId": "2b69039a-00b5-4f10-cea9-84fcd3407cc2"
      },
      "source": [
        "#Multilevel inheritance\n",
        "\n",
        "class A:\n",
        "    def methodA(self):\n",
        "        print(\"A class\")\n",
        "class B(A):\n",
        "    def methodB(self):\n",
        "        print(\"B class\")\n",
        "class C(B):\n",
        "    def methodC(self):\n",
        "        print(\"C class\")\n",
        "x = C()\n",
        "x.methodA()\n",
        "x.methodB()\n",
        "x.methodC()"
      ],
      "execution_count": null,
      "outputs": [
        {
          "output_type": "stream",
          "name": "stdout",
          "text": [
            "A class\n",
            "B class\n",
            "C class\n"
          ]
        }
      ]
    },
    {
      "cell_type": "code",
      "metadata": {
        "colab": {
          "base_uri": "https://localhost:8080/"
        },
        "id": "24V3Wm8KlWwX",
        "outputId": "2ba6e22c-0f90-4231-d59e-2aebcd5004dd"
      },
      "source": [
        "#Multiple inheritance\n",
        "\n",
        "class a:\n",
        "  def method_a(self):\n",
        "    print( \"hello\")\n",
        "\n",
        "class b:\n",
        "  def method_b(self):\n",
        "    print(\"world\") \n",
        "\n",
        "class c(a,b):\n",
        "  def method_c(self):\n",
        "    print(\"qwerty\")\n",
        "\n",
        "x=c()\n",
        "x.method_a()\n",
        "x.method_b()\n",
        "x.method_c()"
      ],
      "execution_count": null,
      "outputs": [
        {
          "output_type": "stream",
          "name": "stdout",
          "text": [
            "hello\n",
            "world\n",
            "qwerty\n"
          ]
        }
      ]
    },
    {
      "cell_type": "code",
      "metadata": {
        "colab": {
          "base_uri": "https://localhost:8080/"
        },
        "id": "FLkaJUXbpUZS",
        "outputId": "8e2e1f80-1c27-43a6-c081-481996d894b0"
      },
      "source": [
        "\n",
        "class Person:\n",
        "       \n",
        "    def __init__(self, name):\n",
        "        self.name = name\n",
        "   \n",
        "    # To get name\n",
        "    def getName(self):\n",
        "        return self.name\n",
        "   \n",
        "    # To check if this person is a student\n",
        "    def isStudent(self):\n",
        "        return False\n",
        "   \n",
        "# Inherited or Subclass (Note Person in bracket)\n",
        "\n",
        "class Student(Person):\n",
        "   \n",
        "    # Check and return true\n",
        "    def isStudent(self):\n",
        "        return True\n",
        "   \n",
        "# Driver code\n",
        "st = Person(\"OOP Course\")  # An Object of Person\n",
        "print(st.getName(), st.isStudent())\n",
        "   \n",
        "st = Student(\"CSE COurse\") # An Object of Student\n",
        "print(st.getName(), st.isStudent())"
      ],
      "execution_count": null,
      "outputs": [
        {
          "output_type": "stream",
          "name": "stdout",
          "text": [
            "OOP Course False\n",
            "CSE COurse True\n"
          ]
        }
      ]
    },
    {
      "cell_type": "code",
      "metadata": {
        "colab": {
          "base_uri": "https://localhost:8080/"
        },
        "id": "8nKXfRPdsAXQ",
        "outputId": "35d19763-2128-4d91-a058-644b9a65bd5e"
      },
      "source": [
        "class person:\n",
        "  def __init__(self,name):\n",
        "    self.name=name\n",
        "\n",
        "  def getName(self):\n",
        "    return self.name\n",
        "\n",
        "  def isStudent(self):\n",
        "    return False\n",
        "\n",
        "class student(person):\n",
        "  def isStudent(self):\n",
        "    return True\n",
        "\n",
        "\n",
        "x=person(\"Hello\")\n",
        "\n",
        "print(x.getName(),x.isStudent())\n",
        "\n",
        "y=student(\"world\")\n",
        "\n",
        "print(y.getName(),y.isStudent())\n",
        "\n"
      ],
      "execution_count": null,
      "outputs": [
        {
          "output_type": "stream",
          "name": "stdout",
          "text": [
            "Hello False\n",
            "world True\n"
          ]
        }
      ]
    },
    {
      "cell_type": "code",
      "metadata": {
        "colab": {
          "base_uri": "https://localhost:8080/"
        },
        "id": "lzmlGPhNvdFP",
        "outputId": "dc06f5a5-f8a5-42b4-90d5-34111c521233"
      },
      "source": [
        "#Hierarchial inheritance\n",
        "\n",
        "class A:\n",
        "    def methodA(self):\n",
        "        print(\"A class\")\n",
        "class B(A):\n",
        "    def methodB(self):\n",
        "        print(\"B class\")\n",
        "class C(A):\n",
        "    def methodC(self):\n",
        "        print(\"C class\")\n",
        "b = B()\n",
        "c = C()\n",
        "b.methodA()\n",
        "c.methodA()"
      ],
      "execution_count": null,
      "outputs": [
        {
          "output_type": "stream",
          "name": "stdout",
          "text": [
            "A class\n",
            "A class\n"
          ]
        }
      ]
    },
    {
      "cell_type": "code",
      "metadata": {
        "id": "FdKgX8yixImU",
        "colab": {
          "base_uri": "https://localhost:8080/"
        },
        "outputId": "227fba0c-1274-4726-ea3d-e2062a6e645f"
      },
      "source": [
        "#Hybrid inheritance\n",
        "\n",
        "class A:\n",
        "    def methodA(self):\n",
        "        print(\"A class\")\n",
        "class B(A):\n",
        "    def methodB(self):\n",
        "        print(\"B class\")\n",
        "class C(A):\n",
        "    def methodC(self):\n",
        "        print(\"C class\")\n",
        "class D(B,C):\n",
        "    def methodD(self):\n",
        "        print(\"D class\")\n",
        "d = D()\n",
        "d.methodA()\n",
        "d.methodC()"
      ],
      "execution_count": null,
      "outputs": [
        {
          "output_type": "stream",
          "name": "stdout",
          "text": [
            "A class\n",
            "C class\n"
          ]
        }
      ]
    },
    {
      "cell_type": "code",
      "metadata": {
        "colab": {
          "base_uri": "https://localhost:8080/"
        },
        "id": "kcbj2Tso5Dvz",
        "outputId": "720110a7-aba8-485b-ac0f-ed61fa337905"
      },
      "source": [
        "class parent:\n",
        "  def __init__(self,name):\n",
        "    self.name=name\n",
        "  \n",
        "  def parentName(self):\n",
        "    print(f\"parent name is {self.name}\")\n",
        "\n",
        "class Child(parent):\n",
        "  def __init__(self,name):\n",
        "    super().__init__(name)\n",
        "\n",
        "\n",
        "x=Child(\"qwerty\")\n",
        "x.parentName()"
      ],
      "execution_count": null,
      "outputs": [
        {
          "output_type": "stream",
          "name": "stdout",
          "text": [
            "parent name is qwerty\n"
          ]
        }
      ]
    },
    {
      "cell_type": "code",
      "metadata": {
        "colab": {
          "base_uri": "https://localhost:8080/"
        },
        "id": "p3FXdgNOhbP7",
        "outputId": "b62be019-a997-489e-de27-03a77cc7f231"
      },
      "source": [
        "class Person:\n",
        "  def __init__(self, name, age):\n",
        "    self.name = name\n",
        "    self.age = age\n",
        "\n",
        "p1 = Person(\"John\", 36)\n",
        "\n",
        "print(p1.name)\n",
        "print(p1.age)\n"
      ],
      "execution_count": 3,
      "outputs": [
        {
          "output_type": "stream",
          "name": "stdout",
          "text": [
            "John\n",
            "36\n"
          ]
        }
      ]
    },
    {
      "cell_type": "code",
      "metadata": {
        "colab": {
          "base_uri": "https://localhost:8080/"
        },
        "id": "zUvRETpihgbQ",
        "outputId": "983390d8-2d59-46bd-d2fa-af43612bc74a"
      },
      "source": [
        "class Person:\n",
        "  def __init__(self, name, age):\n",
        "    self.name = name\n",
        "    self.age = age\n",
        "\n",
        "  def myfunc(sel):\n",
        "    print(\"Hello my name is \" + sel.name)\n",
        "\n",
        "p1 = Person(\"John\", 36)\n",
        "p1.myfunc()"
      ],
      "execution_count": 4,
      "outputs": [
        {
          "output_type": "stream",
          "name": "stdout",
          "text": [
            "Hello my name is John\n"
          ]
        }
      ]
    },
    {
      "cell_type": "code",
      "metadata": {
        "colab": {
          "base_uri": "https://localhost:8080/"
        },
        "id": "oJbuaUdgh7Zf",
        "outputId": "44f7f8d3-56af-421d-8b98-313bd4f24a61"
      },
      "source": [
        "class Person:\n",
        "  def __init__(self, fname, lname):\n",
        "    self.firstname = fname\n",
        "    self.lastname = lname\n",
        "\n",
        "  def printname(self):\n",
        "    print(self.firstname, self.lastname)\n",
        "\n",
        "class Student(Person):\n",
        "  def __init__(self, fname, lname):\n",
        "    super().__init__(fname, lname)\n",
        "    self.graduationyear = 2019\n",
        "\n",
        "x = Student(\"Mike\", \"Olsen\")\n",
        "print(x.graduationyear)\n",
        "x.printname()"
      ],
      "execution_count": 5,
      "outputs": [
        {
          "output_type": "stream",
          "name": "stdout",
          "text": [
            "2019\n",
            "Mike Olsen\n"
          ]
        }
      ]
    },
    {
      "cell_type": "code",
      "metadata": {
        "colab": {
          "base_uri": "https://localhost:8080/"
        },
        "id": "yiy2vnUbkEy4",
        "outputId": "1c6001ed-c116-447f-e521-ebc47cd5360f"
      },
      "source": [
        "class Person:\n",
        "  def __init__(self, fname, lname):\n",
        "    self.firstname = fname\n",
        "    self.lastname = lname\n",
        "\n",
        "  def printname(self):\n",
        "    print(self.firstname, self.lastname)\n",
        "\n",
        "class Student(Person):\n",
        "  def __init__(self, fname, lname, year):\n",
        "    super().__init__(fname, lname)\n",
        "    self.graduationyear = year\n",
        "\n",
        "x = Student(\"Mike\", \"Olsen\", 2019)\n",
        "print(x.graduationyear)\n"
      ],
      "execution_count": 8,
      "outputs": [
        {
          "output_type": "stream",
          "name": "stdout",
          "text": [
            "2019\n"
          ]
        }
      ]
    },
    {
      "cell_type": "code",
      "metadata": {
        "colab": {
          "base_uri": "https://localhost:8080/"
        },
        "id": "eM0cajCLkQ3U",
        "outputId": "fedf3ed8-001d-4ed6-99d8-979546ca0008"
      },
      "source": [
        "class Person:\n",
        "  def __init__(self, fname, lname):\n",
        "    self.firstname = fname\n",
        "    self.lastname = lname\n",
        "\n",
        "  def printname(self):\n",
        "    print(self.firstname, self.lastname)\n",
        "\n",
        "class Student(Person):\n",
        "  def __init__(self, fname, lname, year):\n",
        "    super().__init__(fname, lname)\n",
        "    self.graduationyear = year\n",
        "\n",
        "  def welcome(self):\n",
        "    print(\"Welcome\", self.firstname, self.lastname, \"to the class of\", self.graduationyear)\n",
        "\n",
        "x = Student(\"Mike\", \"Olsen\", 2019)\n",
        "x.welcome()\n"
      ],
      "execution_count": 12,
      "outputs": [
        {
          "output_type": "stream",
          "name": "stdout",
          "text": [
            "Welcome Mike Olsen to the class of 2019\n"
          ]
        }
      ]
    },
    {
      "cell_type": "code",
      "metadata": {
        "id": "7tNvypLdkjgB"
      },
      "source": [
        ""
      ],
      "execution_count": null,
      "outputs": []
    }
  ]
}